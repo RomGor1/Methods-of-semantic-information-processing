{
  "nbformat": 4,
  "nbformat_minor": 0,
  "metadata": {
    "colab": {
      "provenance": [],
      "authorship_tag": "ABX9TyOmn633dP4cOJk1NAgzA/vT",
      "include_colab_link": true
    },
    "kernelspec": {
      "name": "python3",
      "display_name": "Python 3"
    },
    "language_info": {
      "name": "python"
    }
  },
  "cells": [
    {
      "cell_type": "markdown",
      "metadata": {
        "id": "view-in-github",
        "colab_type": "text"
      },
      "source": [
        "<a href=\"https://colab.research.google.com/github/RomGor1/Methods-of-semantic-information-processing/blob/main/Untitled5.ipynb\" target=\"_parent\"><img src=\"https://colab.research.google.com/assets/colab-badge.svg\" alt=\"Open In Colab\"/></a>"
      ]
    },
    {
      "cell_type": "code",
      "source": [
        "import numpy as np\n",
        "import random\n",
        "\n",
        "# Гиперпараметры для маленького датасета\n",
        "batch_size = 4\n",
        "block_size = 8  # очень маленький, чтобы работало на наших данных\n",
        "max_iters = 200\n",
        "eval_interval = 20\n",
        "learning_rate = 1e-3\n",
        "eval_iters = 5\n",
        "n_embd = 32\n",
        "n_head = 2\n",
        "n_layer = 2\n",
        "dropout = 0.0\n",
        "\n",
        "# Увеличим текст для обучения\n",
        "text = \"\"\"\n",
        "Вот пример текста для обучения нашей модели GPT.\n",
        "Этот текст будет использован для создания словаря и обучения.\n",
        "Чем больше текста, тем лучше будет работать модель.\n",
        "Попробуем сгенерировать что-нибудь интересное.\n",
        "И еще немного текста для разнообразия данных.\n",
        "И еще\n",
        "И еще\n",
        "Еще\n",
        "Сколько еще нужно?.\n",
        "\"\"\"\n",
        "chars = sorted(list(set(text)))\n",
        "vocab_size = len(chars)\n",
        "\n",
        "# Создание словарей\n",
        "stoi = {ch:i for i,ch in enumerate(chars)}\n",
        "itos = {i:ch for i,ch in enumerate(chars)}\n",
        "encode = lambda s: [stoi[c] for c in s]\n",
        "decode = lambda l: ''.join([itos[i] for i in l])\n",
        "\n",
        "# Подготовка данных\n",
        "data = np.array(encode(text))\n",
        "n = int(0.8*len(data))\n",
        "train_data = data[:n]\n",
        "val_data = data[n:]\n",
        "\n",
        "def get_batch(split):\n",
        "    data = train_data if split == 'train' else val_data\n",
        "    max_pos = max(1, len(data) - block_size)  # гарантируем хотя бы 1\n",
        "    ix = np.random.randint(0, max_pos, size=(batch_size,))\n",
        "    x = np.stack([data[i:i+block_size] for i in ix])\n",
        "    y = np.stack([data[i+1:i+block_size+1] for i in ix])\n",
        "    return x, y\n",
        "\n",
        "def softmax(x):\n",
        "    e_x = np.exp(x - np.max(x, axis=-1, keepdims=True))\n",
        "    return e_x / e_x.sum(axis=-1, keepdims=True)\n",
        "\n",
        "def cross_entropy(logits, targets):\n",
        "    probs = softmax(logits)\n",
        "    loss = -np.log(probs[np.arange(len(targets)), targets]).mean()\n",
        "    return loss\n",
        "\n"
      ],
      "metadata": {
        "id": "-c3ohg8n3wbo"
      },
      "execution_count": 114,
      "outputs": []
    },
    {
      "cell_type": "code",
      "source": [
        "class Head:\n",
        "    def __init__(self, head_size):\n",
        "        self.key = np.random.randn(n_embd, head_size) * 0.01\n",
        "        self.query = np.random.randn(n_embd, head_size) * 0.01\n",
        "        self.value = np.random.randn(n_embd, head_size) * 0.01\n",
        "        self.tril = np.tril(np.ones((block_size, block_size)))\n",
        "\n",
        "    def __call__(self, x):\n",
        "        B,T,C = x.shape\n",
        "        k = x @ self.key\n",
        "        q = x @ self.query\n",
        "\n",
        "        # Исправленное вычисление внимания\n",
        "        wei = q @ k.transpose(0,2,1) * C**-0.5  # (B,T,T)\n",
        "        wei = np.where(self.tril[:T,:T] == 0, -np.inf, wei)\n",
        "        wei = softmax(wei)\n",
        "\n",
        "        v = x @ self.value\n",
        "        out = wei @ v\n",
        "        return out\n"
      ],
      "metadata": {
        "id": "POmUk5XQ9135"
      },
      "execution_count": 115,
      "outputs": []
    },
    {
      "cell_type": "code",
      "source": [
        "class MultiHeadAttention:\n",
        "    def __init__(self, num_heads, head_size):\n",
        "        self.heads = [Head(head_size) for _ in range(num_heads)]\n",
        "        self.proj = np.random.randn(num_heads * head_size, n_embd) * 0.01\n",
        "\n",
        "    def __call__(self, x):\n",
        "        out = np.concatenate([h(x) for h in self.heads], axis=-1)\n",
        "        out = out @ self.proj\n",
        "        return out"
      ],
      "metadata": {
        "id": "LInvZ_979wfW"
      },
      "execution_count": 116,
      "outputs": []
    },
    {
      "cell_type": "code",
      "source": [
        "class FeedForward:\n",
        "    def __init__(self, n_embd):\n",
        "        self.net = [\n",
        "            Linear(n_embd, 4 * n_embd),\n",
        "            ReLU(),\n",
        "            Linear(4 * n_embd, n_embd)\n",
        "        ]\n",
        "\n",
        "    def __call__(self, x):\n",
        "        for layer in self.net:\n",
        "            x = layer(x)\n",
        "        return x\n"
      ],
      "metadata": {
        "id": "N_z5w7lS9uiO"
      },
      "execution_count": 117,
      "outputs": []
    },
    {
      "cell_type": "code",
      "source": [
        "class Linear:\n",
        "    def __init__(self, in_features, out_features):\n",
        "        self.weight = np.random.randn(in_features, out_features) * 0.01\n",
        "        self.bias = np.zeros(out_features)\n",
        "\n",
        "    def __call__(self, x):\n",
        "        return x @ self.weight + self.bias\n"
      ],
      "metadata": {
        "id": "qYPyqwL-9qoc"
      },
      "execution_count": 118,
      "outputs": []
    },
    {
      "cell_type": "code",
      "source": [
        "class ReLU:\n",
        "    def __call__(self, x):\n",
        "        return np.maximum(0, x)"
      ],
      "metadata": {
        "id": "hyzby70M9kjJ"
      },
      "execution_count": 119,
      "outputs": []
    },
    {
      "cell_type": "code",
      "source": [
        "class LayerNorm:\n",
        "    def __init__(self, dim):\n",
        "        self.gamma = np.ones(dim)\n",
        "        self.beta = np.zeros(dim)\n",
        "\n",
        "    def __call__(self, x):\n",
        "        mean = x.mean(axis=-1, keepdims=True)\n",
        "        std = x.std(axis=-1, keepdims=True)\n",
        "        return self.gamma * (x - mean) / (std + 1e-5) + self.beta\n"
      ],
      "metadata": {
        "id": "rSRUP28D9iJI"
      },
      "execution_count": 120,
      "outputs": []
    },
    {
      "cell_type": "code",
      "source": [
        "class Block:\n",
        "    def __init__(self, n_embd, n_head):\n",
        "        head_size = n_embd // n_head\n",
        "        self.sa = MultiHeadAttention(n_head, head_size)\n",
        "        self.ffwd = FeedForward(n_embd)\n",
        "        self.ln1 = LayerNorm(n_embd)\n",
        "        self.ln2 = LayerNorm(n_embd)\n",
        "\n",
        "    def __call__(self, x):\n",
        "        x = x + self.sa(self.ln1(x))\n",
        "        x = x + self.ffwd(self.ln2(x))\n",
        "        return x\n",
        "\n",
        "class AdamW:\n",
        "    def __init__(self, params, lr=1e-3):\n",
        "        self.params = params\n",
        "        self.lr = lr\n",
        "\n",
        "    def step(self, grads):\n",
        "        for p, g in zip(self.params, grads):\n",
        "            p -= self.lr * g\n"
      ],
      "metadata": {
        "id": "V0UHBRcn9f8P"
      },
      "execution_count": 121,
      "outputs": []
    },
    {
      "cell_type": "code",
      "source": [
        "class GPT:\n",
        "    def __init__(self):\n",
        "        self.token_embedding = np.random.randn(vocab_size, n_embd) * 0.01\n",
        "        self.position_embedding = np.random.randn(block_size, n_embd) * 0.01\n",
        "        self.blocks = [Block(n_embd, n_head) for _ in range(n_layer)]\n",
        "        self.ln_f = LayerNorm(n_embd)\n",
        "        self.lm_head = np.random.randn(n_embd, vocab_size) * 0.01\n",
        "\n",
        "    def forward(self, idx, targets=None):\n",
        "        B, T = idx.shape\n",
        "\n",
        "        tok_emb = self.token_embedding[idx]  # (B,T,C)\n",
        "        pos_emb = self.position_embedding[np.arange(T)]  # (T,C)\n",
        "        x = tok_emb + pos_emb  # (B,T,C)\n",
        "\n",
        "        for block in self.blocks:\n",
        "            x = block(x)\n",
        "\n",
        "        x = self.ln_f(x)\n",
        "        logits = x @ self.lm_head  # (B,T,vocab_size)\n",
        "\n",
        "        if targets is None:\n",
        "            loss = None\n",
        "        else:\n",
        "            loss = cross_entropy(logits.reshape(-1, logits.shape[-1]), targets.reshape(-1))\n",
        "\n",
        "        return logits, loss\n",
        "\n",
        "    def generate(self, idx, max_new_tokens):\n",
        "        for _ in range(max_new_tokens):\n",
        "            idx_cond = idx[:, -block_size:]\n",
        "            logits, _ = self.forward(idx_cond)\n",
        "            logits = logits[:, -1, :]\n",
        "            probs = softmax(logits)\n",
        "            idx_next = np.array([np.random.choice(vocab_size, p=p) for p in probs])\n",
        "            idx = np.column_stack((idx, idx_next))\n",
        "        return idx"
      ],
      "metadata": {
        "id": "BUSWLKOh9XTD"
      },
      "execution_count": 122,
      "outputs": []
    },
    {
      "cell_type": "code",
      "source": [
        "# Инициализация и обучение\n",
        "model = GPT()\n",
        "params = [model.token_embedding, model.position_embedding, model.lm_head]\n",
        "for block in model.blocks:\n",
        "    params.extend([block.sa.proj] + [h.key for h in block.sa.heads] +\n",
        "                 [h.query for h in block.sa.heads] + [h.value for h in block.sa.heads])\n",
        "    params.extend([layer.weight for layer in block.ffwd.net if isinstance(layer, Linear)])\n",
        "\n",
        "optimizer = AdamW(params, lr=learning_rate)\n",
        "\n",
        "print(f\"Размер словаря: {vocab_size}\")\n",
        "print(f\"Длина обучающих данных: {len(train_data)}\")\n",
        "print(f\"Длина валидационных данных: {len(val_data)}\")"
      ],
      "metadata": {
        "id": "ph_tcGQD9SIY",
        "outputId": "ff9e709f-8304-4e49-9089-757938ffce2f",
        "colab": {
          "base_uri": "https://localhost:8080/"
        }
      },
      "execution_count": 123,
      "outputs": [
        {
          "output_type": "stream",
          "name": "stdout",
          "text": [
            "Размер словаря: 43\n",
            "Длина обучающих данных: 236\n",
            "Длина валидационных данных: 60\n"
          ]
        }
      ]
    },
    {
      "cell_type": "code",
      "source": [
        "for iter in range(max_iters):\n",
        "    if iter % eval_interval == 0:\n",
        "        losses = {}\n",
        "        for split in ['train', 'val']:\n",
        "            try:\n",
        "                batch_losses = []\n",
        "                for _ in range(eval_iters):\n",
        "                    xb, yb = get_batch(split)\n",
        "                    _, loss = model.forward(xb, yb)\n",
        "                    batch_losses.append(loss)\n",
        "                losses[split] = np.mean(batch_losses)\n",
        "            except:\n",
        "                losses[split] = float('inf')\n",
        "        print(f\"step {iter}: train loss {losses['train']:.4f}, val loss {losses['val']:.4f}\")\n",
        "\n",
        "    try:\n",
        "        xb, yb = get_batch('train')\n",
        "        _, loss = model.forward(xb, yb)\n",
        "\n",
        "        # Упрощенный backward pass (для демонстрации)\n",
        "        grads = [0.01 * np.random.randn(*p.shape) for p in params]  # в реальности нужно вычислять градиенты\n",
        "        optimizer.step(grads)\n",
        "    except Exception as e:\n",
        "        print(f\"Ошибка на итерации {iter}: {str(e)}\")\n",
        "        break"
      ],
      "metadata": {
        "id": "ZIA_P8VI9KaN",
        "outputId": "88185ea8-f1fc-4d61-fae3-7a752d5b9f74",
        "colab": {
          "base_uri": "https://localhost:8080/"
        }
      },
      "execution_count": 124,
      "outputs": [
        {
          "output_type": "stream",
          "name": "stdout",
          "text": [
            "step 0: train loss 3.7676, val loss 3.7441\n",
            "step 20: train loss 3.7645, val loss 3.7411\n",
            "step 40: train loss 3.7557, val loss 3.7425\n",
            "step 60: train loss 3.7693, val loss 3.7493\n",
            "step 80: train loss 3.7672, val loss 3.7420\n",
            "step 100: train loss 3.7625, val loss 3.7418\n",
            "step 120: train loss 3.7656, val loss 3.7384\n",
            "step 140: train loss 3.7592, val loss 3.7496\n",
            "step 160: train loss 3.7588, val loss 3.7541\n",
            "step 180: train loss 3.7593, val loss 3.7380\n"
          ]
        }
      ]
    },
    {
      "cell_type": "code",
      "source": [
        "# Генерация текста\n",
        "print(\"\\nСгенерированный текст:\")\n",
        "context = np.array([[stoi['В']]])  # Начинаем с символа 'В'\n",
        "print(decode(model.generate(context, max_new_tokens=50)[0]))"
      ],
      "metadata": {
        "id": "psVh0QcE81Ar",
        "outputId": "22e94055-73ee-4ae8-a346-96ea0e595f9c",
        "colab": {
          "base_uri": "https://localhost:8080/"
        }
      },
      "execution_count": 125,
      "outputs": [
        {
          "output_type": "stream",
          "name": "stdout",
          "text": [
            "\n",
            "Сгенерированный текст:\n",
            "Вуй.\n",
            "бPаж,и.,ИчаСз\n",
            "И\n",
            "п.бнзтжяпнлВ?сщ-мххпв?.пЕВщзхн\n"
          ]
        }
      ]
    }
  ]
}