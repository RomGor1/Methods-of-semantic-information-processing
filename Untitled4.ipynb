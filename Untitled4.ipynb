{
  "nbformat": 4,
  "nbformat_minor": 0,
  "metadata": {
    "colab": {
      "provenance": [],
      "authorship_tag": "ABX9TyMMxJe8EDqz8WfIYd8G92Rk",
      "include_colab_link": true
    },
    "kernelspec": {
      "name": "python3",
      "display_name": "Python 3"
    },
    "language_info": {
      "name": "python"
    }
  },
  "cells": [
    {
      "cell_type": "markdown",
      "metadata": {
        "id": "view-in-github",
        "colab_type": "text"
      },
      "source": [
        "<a href=\"https://colab.research.google.com/github/RomGor1/Methods-of-semantic-information-processing/blob/main/Untitled4.ipynb\" target=\"_parent\"><img src=\"https://colab.research.google.com/assets/colab-badge.svg\" alt=\"Open In Colab\"/></a>"
      ]
    },
    {
      "cell_type": "code",
      "source": [
        "import numpy as np\n",
        "import matplotlib.pyplot as plt\n",
        "from sklearn.datasets import load_iris\n",
        "from sklearn.model_selection import train_test_split\n",
        "from sklearn.preprocessing import OneHotEncoder"
      ],
      "metadata": {
        "id": "_rdZneyMcGik"
      },
      "execution_count": 5,
      "outputs": []
    },
    {
      "cell_type": "code",
      "source": [
        "class NeuralNetwork:\n",
        "    def __init__(self, input_size, hidden_sizes, output_size, learning_rate=0.01):\n",
        "        np.random.seed(42)\n",
        "        self.lr = learning_rate\n",
        "\n",
        "\n",
        "        self.weights = []\n",
        "        sizes = [input_size] + hidden_sizes + [output_size]\n",
        "\n",
        "        for i in range(len(sizes) - 1):\n",
        "            self.weights.append(np.random.randn(sizes[i], sizes[i+1]) * 0.1)\n",
        "\n",
        "    def sigmoid(self, x):\n",
        "        return 1 / (1 + np.exp(-x))\n",
        "\n",
        "    def sigmoid_derivative(self, x):\n",
        "        return x * (1 - x)\n",
        "\n",
        "    def forward(self, X):\n",
        "        self.activations = [X]\n",
        "        self.z_values = []\n",
        "\n",
        "        for i in range(len(self.weights)):\n",
        "            z = np.dot(self.activations[-1], self.weights[i])\n",
        "            self.z_values.append(z)\n",
        "            activation = self.sigmoid(z)\n",
        "            self.activations.append(activation)\n",
        "\n",
        "        return self.activations[-1]\n",
        "\n",
        "    def backward(self, X, y, output):\n",
        "        errors = [y - output]\n",
        "        deltas = [errors[-1] * self.sigmoid_derivative(output)]\n",
        "\n",
        "        for i in range(len(self.weights)-1, 0, -1):\n",
        "            error = deltas[-1].dot(self.weights[i].T)\n",
        "            errors.append(error)\n",
        "            delta = error * self.sigmoid_derivative(self.activations[i])\n",
        "            deltas.append(delta)\n",
        "\n",
        "        deltas.reverse()\n",
        "\n",
        "\n",
        "        for i in range(len(self.weights)):\n",
        "            self.weights[i] += self.activations[i].T.dot(deltas[i]) * self.lr\n",
        "\n",
        "    def train(self, X, y, epochs=1000):\n",
        "        for epoch in range(epochs):\n",
        "            output = self.forward(X)\n",
        "            self.backward(X, y, output)\n",
        "\n",
        "            if epoch % 100 == 0:\n",
        "                loss = np.mean(np.square(y - output))\n",
        "                print(f\"Epoch {epoch}, Loss: {loss:.4f}\")\n",
        "\n",
        "    def predict(self, X):\n",
        "        return self.forward(X)"
      ],
      "metadata": {
        "id": "bF2SP1QCcMke"
      },
      "execution_count": 6,
      "outputs": []
    },
    {
      "cell_type": "code",
      "source": [
        "\n",
        "iris = load_iris()\n",
        "X = iris.data\n",
        "y = iris.target.reshape(-1, 1)\n",
        "\n",
        "\n",
        "encoder = OneHotEncoder(sparse_output=False)\n",
        "y = encoder.fit_transform(y)\n",
        "\n",
        "\n",
        "X_train, X_test, y_train, y_test = train_test_split(X, y, test_size=0.2, random_state=42)\n",
        "\n",
        "\n",
        "X_train = (X_train - np.mean(X_train, axis=0)) / np.std(X_train, axis=0)\n",
        "X_test = (X_test - np.mean(X_test, axis=0)) / np.std(X_test, axis=0)\n",
        "\n",
        "\n",
        "nn = NeuralNetwork(input_size=4, hidden_sizes=[5, 5], output_size=3, learning_rate=0.01)\n",
        "nn.train(X_train, y_train, epochs=1000)\n",
        "\n",
        "\n",
        "predictions = nn.predict(X_test)\n",
        "predicted_classes = np.argmax(predictions, axis=1)\n",
        "true_classes = np.argmax(y_test, axis=1)\n",
        "\n",
        "\n",
        "accuracy = np.mean(predicted_classes == true_classes)\n",
        "print(f\"Test Accuracy: {accuracy * 100:.2f}%\")"
      ],
      "metadata": {
        "colab": {
          "base_uri": "https://localhost:8080/"
        },
        "id": "ICpKHsesdsJ0",
        "outputId": "3fbee8a7-d892-44d0-8d59-2ce69360e5bf"
      },
      "execution_count": 14,
      "outputs": [
        {
          "output_type": "stream",
          "name": "stdout",
          "text": [
            "Epoch 0, Loss: 0.2511\n",
            "Epoch 100, Loss: 0.2221\n",
            "Epoch 200, Loss: 0.2220\n",
            "Epoch 300, Loss: 0.2212\n",
            "Epoch 400, Loss: 0.2088\n",
            "Epoch 500, Loss: 0.1253\n",
            "Epoch 600, Loss: 0.1084\n",
            "Epoch 700, Loss: 0.1003\n",
            "Epoch 800, Loss: 0.0925\n",
            "Epoch 900, Loss: 0.0828\n",
            "Test Accuracy: 100.00%\n"
          ]
        }
      ]
    }
  ]
}