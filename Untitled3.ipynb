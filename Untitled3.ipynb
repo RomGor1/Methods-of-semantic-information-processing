{
  "nbformat": 4,
  "nbformat_minor": 0,
  "metadata": {
    "colab": {
      "provenance": [],
      "authorship_tag": "ABX9TyMhMQNzR972rqb8yWWanuRU",
      "include_colab_link": true
    },
    "kernelspec": {
      "name": "python3",
      "display_name": "Python 3"
    },
    "language_info": {
      "name": "python"
    }
  },
  "cells": [
    {
      "cell_type": "markdown",
      "metadata": {
        "id": "view-in-github",
        "colab_type": "text"
      },
      "source": [
        "<a href=\"https://colab.research.google.com/github/RomGor1/Methods-of-semantic-information-processing/blob/main/Untitled3.ipynb\" target=\"_parent\"><img src=\"https://colab.research.google.com/assets/colab-badge.svg\" alt=\"Open In Colab\"/></a>"
      ]
    },
    {
      "cell_type": "code",
      "source": [
        "import numpy as np"
      ],
      "metadata": {
        "id": "F8Aa3hA_cRY7"
      },
      "execution_count": 47,
      "outputs": []
    },
    {
      "cell_type": "code",
      "source": [
        "class SimpleNeuralNetwork:\n",
        "    def __init__(self, input_size, hidden_size, output_size):\n",
        "        # Инициализация весов и смещений\n",
        "        self.weights_input_hidden = np.random.randn(input_size, hidden_size)\n",
        "        self.weights_hidden_output = np.random.randn(hidden_size, output_size)\n",
        "        self.bias_hidden = np.zeros((1, hidden_size))\n",
        "        self.bias_output = np.zeros((1, output_size))\n",
        "\n",
        "    def sigmoid(self, x):\n",
        "        return 1 / (1 + np.exp(-x))\n",
        "\n",
        "    def sigmoid_derivative(self, x):\n",
        "        return x * (1 - x)\n",
        "\n",
        "    def forward(self, X):\n",
        "        # Прямое распространение\n",
        "        self.hidden_input = np.dot(X, self.weights_input_hidden) + self.bias_hidden\n",
        "        self.hidden_output = self.sigmoid(self.hidden_input)\n",
        "        self.final_input = np.dot(self.hidden_output, self.weights_hidden_output) + self.bias_output\n",
        "        self.final_output = self.sigmoid(self.final_input)\n",
        "        return self.final_output\n",
        "\n",
        "    def backward(self, X, y, output):\n",
        "        # Обратное распространение ошибки\n",
        "        error = y - output\n",
        "        d_output = error * self.sigmoid_derivative(output)\n",
        "        error_hidden = d_output.dot(self.weights_hidden_output.T)\n",
        "        d_hidden = error_hidden * self.sigmoid_derivative(self.hidden_output)\n",
        "\n",
        "        # Обновление весов и смещений\n",
        "        self.weights_hidden_output += self.hidden_output.T.dot(d_output)\n",
        "        self.weights_input_hidden += X.T.dot(d_hidden)\n",
        "        self.bias_output += np.sum(d_output, axis=0, keepdims=True)\n",
        "        self.bias_hidden += np.sum(d_hidden, axis=0)\n",
        "\n",
        "    def train(self, X, y, epochs):\n",
        "        for epoch in range(epochs):\n",
        "            output = self.forward(X)\n",
        "            self.backward(X, y, output)\n",
        "\n",
        "            # Вывод ошибки каждую 1000 эпох\n",
        "            if epoch % 1000 == 0:\n",
        "                loss = np.mean(np.square(y - output))  # Среднеквадратичная ошибка (MSE)\n",
        "                print(f\"Epoch {epoch}, Loss: {loss}\")\n"
      ],
      "metadata": {
        "id": "nphKjobMcTbc"
      },
      "execution_count": 48,
      "outputs": []
    },
    {
      "cell_type": "code",
      "source": [
        "# Пример использования\n",
        "X = np.array([[0, 0], [0, 1], [1, 0], [1, 1]])\n",
        "y = np.array([[0], [1], [1], [0]])"
      ],
      "metadata": {
        "id": "Lbla4Y8OcXxL"
      },
      "execution_count": 49,
      "outputs": []
    },
    {
      "cell_type": "code",
      "source": [
        "# Создание и обучение сети\n",
        "nn = SimpleNeuralNetwork(input_size=2, hidden_size=4, output_size=1)\n",
        "nn.train(X, y, epochs=10000)\n"
      ],
      "metadata": {
        "colab": {
          "base_uri": "https://localhost:8080/"
        },
        "id": "M7uWS1C0ccfK",
        "outputId": "f50cb441-7e19-4c8e-d6b9-6f0683d54594"
      },
      "execution_count": 50,
      "outputs": [
        {
          "output_type": "stream",
          "name": "stdout",
          "text": [
            "Epoch 0, Loss: 0.29667242656782794\n",
            "Epoch 1000, Loss: 0.0016074328015778505\n",
            "Epoch 2000, Loss: 0.000683290610215594\n",
            "Epoch 3000, Loss: 0.000428290813921755\n",
            "Epoch 4000, Loss: 0.0003104659430799766\n",
            "Epoch 5000, Loss: 0.0002429369980152636\n",
            "Epoch 6000, Loss: 0.00019927869153488784\n",
            "Epoch 7000, Loss: 0.00016878282072165763\n",
            "Epoch 8000, Loss: 0.00014629964068812228\n",
            "Epoch 9000, Loss: 0.00012905015065636541\n"
          ]
        }
      ]
    },
    {
      "cell_type": "code",
      "source": [
        "# Тестирование сети\n",
        "test_data = np.array([[0, 0], [0, 1], [1, 0], [1, 1]])\n",
        "for data in test_data:\n",
        "    print(f\"Input: {data}, Output: {nn.forward(data)}\")"
      ],
      "metadata": {
        "colab": {
          "base_uri": "https://localhost:8080/"
        },
        "id": "7AiudRf5ceMj",
        "outputId": "2b72a28f-6629-4e41-db3b-8ea3216ad66f"
      },
      "execution_count": 51,
      "outputs": [
        {
          "output_type": "stream",
          "name": "stdout",
          "text": [
            "Input: [0 0], Output: [[0.00727935]]\n",
            "Input: [0 1], Output: [[0.989499]]\n",
            "Input: [1 0], Output: [[0.98859624]]\n",
            "Input: [1 1], Output: [[0.01297353]]\n"
          ]
        }
      ]
    }
  ]
}