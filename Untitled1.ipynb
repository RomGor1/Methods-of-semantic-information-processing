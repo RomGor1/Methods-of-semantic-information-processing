{
  "nbformat": 4,
  "nbformat_minor": 0,
  "metadata": {
    "colab": {
      "provenance": [],
      "authorship_tag": "ABX9TyPHF/DKRlYd3CoMElb/8P9T",
      "include_colab_link": true
    },
    "kernelspec": {
      "name": "python3",
      "display_name": "Python 3"
    },
    "language_info": {
      "name": "python"
    }
  },
  "cells": [
    {
      "cell_type": "markdown",
      "metadata": {
        "id": "view-in-github",
        "colab_type": "text"
      },
      "source": [
        "<a href=\"https://colab.research.google.com/github/RomGor1/Methods-of-semantic-information-processing/blob/main/Untitled1.ipynb\" target=\"_parent\"><img src=\"https://colab.research.google.com/assets/colab-badge.svg\" alt=\"Open In Colab\"/></a>"
      ]
    },
    {
      "cell_type": "code",
      "execution_count": 52,
      "metadata": {
        "id": "VASDEsF-EArb"
      },
      "outputs": [],
      "source": [
        "# Импорт необходимых библиотек\n",
        "from natasha import MorphVocab, Doc, Segmenter, NewsEmbedding, NewsMorphTagger\n"
      ]
    },
    {
      "cell_type": "code",
      "source": [
        "# Инициализация компонентов Natasha\n",
        "segmenter = Segmenter()\n",
        "morph_vocab = MorphVocab()\n",
        "emb = NewsEmbedding()\n",
        "morph_tagger = NewsMorphTagger(emb)\n"
      ],
      "metadata": {
        "id": "sM3h89hwapjh"
      },
      "execution_count": 53,
      "outputs": []
    },
    {
      "cell_type": "code",
      "source": [
        "# Функция для обработки текста (лемматизация и стемминг)\n",
        "def process_text(text, lemmatize=True, stem_length=4):\n",
        "    doc = Doc(text)\n",
        "    doc.segment(segmenter)  # Сегментация текста на токены\n",
        "    doc.tag_morph(morph_tagger)  # Морфологический разбор\n",
        "\n",
        "    processed_text = []\n",
        "    for token in doc.tokens:\n",
        "        token.lemmatize(morph_vocab)\n",
        "        if lemmatize:\n",
        "            processed_text.append(token.lemma if token.lemma else token.text)\n",
        "        else:\n",
        "            processed_text.append(token.lemma[:stem_length] if token.lemma else token.text)\n",
        "    return processed_text"
      ],
      "metadata": {
        "id": "BLBw_Xunau_R"
      },
      "execution_count": 54,
      "outputs": []
    },
    {
      "cell_type": "code",
      "source": [
        "# Функция для токенизации всех символов из ASCII\n",
        "def tokenize_ascii(text):\n",
        "    return list(text)\n"
      ],
      "metadata": {
        "id": "mzTGbtSfaz7Z"
      },
      "execution_count": 55,
      "outputs": []
    },
    {
      "cell_type": "code",
      "source": [
        "# Функция для векторизации всех символов из ASCII\n",
        "def vectorize_ascii(text):\n",
        "    return [ord(char) for char in text]"
      ],
      "metadata": {
        "id": "VzqzRgd7a7Vh"
      },
      "execution_count": 56,
      "outputs": []
    },
    {
      "cell_type": "code",
      "source": [
        "# Пример текста\n",
        "text = \"Мама мыла раму, а потом пошла гулять.\""
      ],
      "metadata": {
        "id": "Huvn0aSOa9rh"
      },
      "execution_count": 57,
      "outputs": []
    },
    {
      "cell_type": "code",
      "source": [
        "# Лемматизация\n",
        "lemmatized_text = process_text(text, lemmatize=True)\n",
        "print(\"Лемматизация:\", lemmatized_text)\n"
      ],
      "metadata": {
        "colab": {
          "base_uri": "https://localhost:8080/"
        },
        "id": "kvH45NdcbA1S",
        "outputId": "4bd3ce0d-a7f4-426e-e2ea-b904e0ed6e31"
      },
      "execution_count": 65,
      "outputs": [
        {
          "output_type": "stream",
          "name": "stdout",
          "text": [
            "Лемматизация: ['мама', 'мыть', 'рама', ',', 'а', 'потом', 'пойти', 'гулять', '.']\n"
          ]
        }
      ]
    },
    {
      "cell_type": "code",
      "source": [
        "# Стемминг\n",
        "stemmed_text = process_text(text, lemmatize=False, stem_length=4)\n",
        "print(\"Стемминг:\", stemmed_text)"
      ],
      "metadata": {
        "colab": {
          "base_uri": "https://localhost:8080/"
        },
        "id": "3bkPN_SUbDaJ",
        "outputId": "b0bf1788-0b12-42d8-dda0-ac8d252fcdf8"
      },
      "execution_count": 59,
      "outputs": [
        {
          "output_type": "stream",
          "name": "stdout",
          "text": [
            "Стемминг: ['мама', 'мыть', 'рама', ',', 'а', 'пото', 'пойт', 'гуля', '.']\n"
          ]
        }
      ]
    },
    {
      "cell_type": "code",
      "source": [
        "# Токенизация ASCII\n",
        "ascii_tokens = tokenize_ascii(text)\n",
        "print(\"ASCII токены:\", ascii_tokens)"
      ],
      "metadata": {
        "colab": {
          "base_uri": "https://localhost:8080/"
        },
        "id": "4QkwrowZbJ2C",
        "outputId": "b90c919e-cc0f-40c6-b3ac-15b27f96b982"
      },
      "execution_count": 60,
      "outputs": [
        {
          "output_type": "stream",
          "name": "stdout",
          "text": [
            "ASCII токены: ['М', 'а', 'м', 'а', ' ', 'м', 'ы', 'л', 'а', ' ', 'р', 'а', 'м', 'у', ',', ' ', 'а', ' ', 'п', 'о', 'т', 'о', 'м', ' ', 'п', 'о', 'ш', 'л', 'а', ' ', 'г', 'у', 'л', 'я', 'т', 'ь', '.']\n"
          ]
        }
      ]
    },
    {
      "cell_type": "code",
      "source": [
        "# Векторизация ASCII\n",
        "ascii_vectors = vectorize_ascii(text)\n",
        "print(\"Векторизация ASCII:\", ascii_vectors)"
      ],
      "metadata": {
        "colab": {
          "base_uri": "https://localhost:8080/"
        },
        "id": "Vt9nHztubQgJ",
        "outputId": "c492728b-d60a-4567-ddbf-9375f481ee58"
      },
      "execution_count": 61,
      "outputs": [
        {
          "output_type": "stream",
          "name": "stdout",
          "text": [
            "Векторизация ASCII: [1052, 1072, 1084, 1072, 32, 1084, 1099, 1083, 1072, 32, 1088, 1072, 1084, 1091, 44, 32, 1072, 32, 1087, 1086, 1090, 1086, 1084, 32, 1087, 1086, 1096, 1083, 1072, 32, 1075, 1091, 1083, 1103, 1090, 1100, 46]\n"
          ]
        }
      ]
    },
    {
      "cell_type": "code",
      "source": [
        "# Токенизация и векторизация после лемматизации\n",
        "processed_text_lemmatized = ' '.join(lemmatized_text)\n",
        "tokens_lemmatized = tokenize_ascii(processed_text_lemmatized)\n",
        "vectors_lemmatized = vectorize_ascii(processed_text_lemmatized)\n",
        "print(\"Токенизация после лемматизации:\", tokens_lemmatized)\n",
        "print(\"Векторизация после лемматизации:\", vectors_lemmatized)"
      ],
      "metadata": {
        "colab": {
          "base_uri": "https://localhost:8080/"
        },
        "id": "5NdHhAKobUuB",
        "outputId": "d8decfb6-2077-479a-bee7-29330c874fac"
      },
      "execution_count": 62,
      "outputs": [
        {
          "output_type": "stream",
          "name": "stdout",
          "text": [
            "Токенизация после лемматизации: ['м', 'а', 'м', 'а', ' ', 'м', 'ы', 'т', 'ь', ' ', 'р', 'а', 'м', 'а', ' ', ',', ' ', 'а', ' ', 'п', 'о', 'т', 'о', 'м', ' ', 'п', 'о', 'й', 'т', 'и', ' ', 'г', 'у', 'л', 'я', 'т', 'ь', ' ', '.']\n",
            "Векторизация после лемматизации: [1084, 1072, 1084, 1072, 32, 1084, 1099, 1090, 1100, 32, 1088, 1072, 1084, 1072, 32, 44, 32, 1072, 32, 1087, 1086, 1090, 1086, 1084, 32, 1087, 1086, 1081, 1090, 1080, 32, 1075, 1091, 1083, 1103, 1090, 1100, 32, 46]\n"
          ]
        }
      ]
    },
    {
      "cell_type": "code",
      "source": [
        "# Токенизация и векторизация после стемминга\n",
        "processed_text_stemmed = ' '.join(stemmed_text)\n",
        "tokens_stemmed = tokenize_ascii(processed_text_stemmed)\n",
        "vectors_stemmed = vectorize_ascii(processed_text_stemmed)\n",
        "print(\"Токенизация после стемминга:\", tokens_stemmed)\n",
        "print(\"Векторизация после стемминга:\", vectors_stemmed)"
      ],
      "metadata": {
        "colab": {
          "base_uri": "https://localhost:8080/"
        },
        "id": "coB23oJ1bV4Z",
        "outputId": "680f83b7-66ee-46ea-a01b-3c092a845231"
      },
      "execution_count": 63,
      "outputs": [
        {
          "output_type": "stream",
          "name": "stdout",
          "text": [
            "Токенизация после стемминга: ['м', 'а', 'м', 'а', ' ', 'м', 'ы', 'т', 'ь', ' ', 'р', 'а', 'м', 'а', ' ', ',', ' ', 'а', ' ', 'п', 'о', 'т', 'о', ' ', 'п', 'о', 'й', 'т', ' ', 'г', 'у', 'л', 'я', ' ', '.']\n",
            "Векторизация после стемминга: [1084, 1072, 1084, 1072, 32, 1084, 1099, 1090, 1100, 32, 1088, 1072, 1084, 1072, 32, 44, 32, 1072, 32, 1087, 1086, 1090, 1086, 32, 1087, 1086, 1081, 1090, 32, 1075, 1091, 1083, 1103, 32, 46]\n"
          ]
        }
      ]
    }
  ]
}