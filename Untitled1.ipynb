{
  "nbformat": 4,
  "nbformat_minor": 0,
  "metadata": {
    "colab": {
      "provenance": [],
      "authorship_tag": "ABX9TyOzbZR3bQhlyR2MJvcsJjeP",
      "include_colab_link": true
    },
    "kernelspec": {
      "name": "python3",
      "display_name": "Python 3"
    },
    "language_info": {
      "name": "python"
    }
  },
  "cells": [
    {
      "cell_type": "markdown",
      "metadata": {
        "id": "view-in-github",
        "colab_type": "text"
      },
      "source": [
        "<a href=\"https://colab.research.google.com/github/RomGor1/Methods-of-semantic-information-processing/blob/main/Untitled1.ipynb\" target=\"_parent\"><img src=\"https://colab.research.google.com/assets/colab-badge.svg\" alt=\"Open In Colab\"/></a>"
      ]
    },
    {
      "cell_type": "code",
      "execution_count": 49,
      "metadata": {
        "colab": {
          "base_uri": "https://localhost:8080/"
        },
        "id": "VASDEsF-EArb",
        "outputId": "0dc41348-d45e-4a99-815d-19916995411b"
      },
      "outputs": [
        {
          "output_type": "stream",
          "name": "stdout",
          "text": [
            "Лемматизация: ['мама', 'мыть', 'рама', ',', 'а', 'потом', 'пойти', 'гулять', '.']\n",
            "Стемминг: ['мама', 'мыть', 'рама', ',', 'а', 'пото', 'пойт', 'гуля', '.']\n",
            "ASCII токены: ['М', 'а', 'м', 'а', ' ', 'м', 'ы', 'л', 'а', ' ', 'р', 'а', 'м', 'у', ',', ' ', 'а', ' ', 'п', 'о', 'т', 'о', 'м', ' ', 'п', 'о', 'ш', 'л', 'а', ' ', 'г', 'у', 'л', 'я', 'т', 'ь', '.']\n",
            "Векторизация ASCII: [1052, 1072, 1084, 1072, 32, 1084, 1099, 1083, 1072, 32, 1088, 1072, 1084, 1091, 44, 32, 1072, 32, 1087, 1086, 1090, 1086, 1084, 32, 1087, 1086, 1096, 1083, 1072, 32, 1075, 1091, 1083, 1103, 1090, 1100, 46]\n",
            "Токенизация после лемматизации: ['м', 'а', 'м', 'а', ' ', 'м', 'ы', 'т', 'ь', ' ', 'р', 'а', 'м', 'а', ' ', ',', ' ', 'а', ' ', 'п', 'о', 'т', 'о', 'м', ' ', 'п', 'о', 'й', 'т', 'и', ' ', 'г', 'у', 'л', 'я', 'т', 'ь', ' ', '.']\n",
            "Векторизация после лемматизации: [1084, 1072, 1084, 1072, 32, 1084, 1099, 1090, 1100, 32, 1088, 1072, 1084, 1072, 32, 44, 32, 1072, 32, 1087, 1086, 1090, 1086, 1084, 32, 1087, 1086, 1081, 1090, 1080, 32, 1075, 1091, 1083, 1103, 1090, 1100, 32, 46]\n",
            "Токенизация после стемминга: ['м', 'а', 'м', 'а', ' ', 'м', 'ы', 'т', 'ь', ' ', 'р', 'а', 'м', 'а', ' ', ',', ' ', 'а', ' ', 'п', 'о', 'т', 'о', ' ', 'п', 'о', 'й', 'т', ' ', 'г', 'у', 'л', 'я', ' ', '.']\n",
            "Векторизация после стемминга: [1084, 1072, 1084, 1072, 32, 1084, 1099, 1090, 1100, 32, 1088, 1072, 1084, 1072, 32, 44, 32, 1072, 32, 1087, 1086, 1090, 1086, 32, 1087, 1086, 1081, 1090, 32, 1075, 1091, 1083, 1103, 32, 46]\n"
          ]
        }
      ],
      "source": [
        "# Импорт необходимых библиотек\n",
        "from natasha import MorphVocab, Doc, Segmenter, NewsEmbedding, NewsMorphTagger\n",
        "\n",
        "# Инициализация компонентов Natasha\n",
        "segmenter = Segmenter()\n",
        "morph_vocab = MorphVocab()\n",
        "emb = NewsEmbedding()\n",
        "morph_tagger = NewsMorphTagger(emb)\n",
        "\n",
        "# Функция для обработки текста (лемматизация и стемминг)\n",
        "def process_text(text, lemmatize=True, stem_length=4):\n",
        "    doc = Doc(text)\n",
        "    doc.segment(segmenter)  # Сегментация текста на токены\n",
        "    doc.tag_morph(morph_tagger)  # Морфологический разбор\n",
        "\n",
        "    processed_text = []\n",
        "    for token in doc.tokens:\n",
        "        token.lemmatize(morph_vocab)\n",
        "        if lemmatize:\n",
        "            processed_text.append(token.lemma if token.lemma else token.text)\n",
        "        else:\n",
        "            processed_text.append(token.lemma[:stem_length] if token.lemma else token.text)\n",
        "    return processed_text\n",
        "\n",
        "# Функция для токенизации всех символов из ASCII\n",
        "def tokenize_ascii(text):\n",
        "    return list(text)\n",
        "\n",
        "# Функция для векторизации всех символов из ASCII\n",
        "def vectorize_ascii(text):\n",
        "    return [ord(char) for char in text]\n",
        "\n",
        "# Пример текста\n",
        "text = \"Мама мыла раму, а потом пошла гулять.\"\n",
        "\n",
        "# Лемматизация\n",
        "lemmatized_text = process_text(text, lemmatize=True)\n",
        "print(\"Лемматизация:\", lemmatized_text)\n",
        "\n",
        "# Стемминг\n",
        "stemmed_text = process_text(text, lemmatize=False, stem_length=4)\n",
        "print(\"Стемминг:\", stemmed_text)\n",
        "\n",
        "# Токенизация ASCII\n",
        "ascii_tokens = tokenize_ascii(text)\n",
        "print(\"ASCII токены:\", ascii_tokens)\n",
        "\n",
        "# Векторизация ASCII\n",
        "ascii_vectors = vectorize_ascii(text)\n",
        "print(\"Векторизация ASCII:\", ascii_vectors)\n",
        "\n",
        "# Токенизация и векторизация после лемматизации\n",
        "processed_text_lemmatized = ' '.join(lemmatized_text)\n",
        "tokens_lemmatized = tokenize_ascii(processed_text_lemmatized)\n",
        "vectors_lemmatized = vectorize_ascii(processed_text_lemmatized)\n",
        "print(\"Токенизация после лемматизации:\", tokens_lemmatized)\n",
        "print(\"Векторизация после лемматизации:\", vectors_lemmatized)\n",
        "\n",
        "# Токенизация и векторизация после стемминга\n",
        "processed_text_stemmed = ' '.join(stemmed_text)\n",
        "tokens_stemmed = tokenize_ascii(processed_text_stemmed)\n",
        "vectors_stemmed = vectorize_ascii(processed_text_stemmed)\n",
        "print(\"Токенизация после стемминга:\", tokens_stemmed)\n",
        "print(\"Векторизация после стемминга:\", vectors_stemmed)"
      ]
    }
  ]
}