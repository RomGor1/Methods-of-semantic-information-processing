{
  "nbformat": 4,
  "nbformat_minor": 0,
  "metadata": {
    "colab": {
      "provenance": [],
      "authorship_tag": "ABX9TyNMamjO0xYmTLX9RJPaNvwr",
      "include_colab_link": true
    },
    "kernelspec": {
      "name": "python3",
      "display_name": "Python 3"
    },
    "language_info": {
      "name": "python"
    }
  },
  "cells": [
    {
      "cell_type": "markdown",
      "metadata": {
        "id": "view-in-github",
        "colab_type": "text"
      },
      "source": [
        "<a href=\"https://colab.research.google.com/github/RomGor1/Methods-of-semantic-information-processing/blob/main/Untitled1.ipynb\" target=\"_parent\"><img src=\"https://colab.research.google.com/assets/colab-badge.svg\" alt=\"Open In Colab\"/></a>"
      ]
    },
    {
      "cell_type": "code",
      "execution_count": 19,
      "metadata": {
        "colab": {
          "base_uri": "https://localhost:8080/"
        },
        "id": "VASDEsF-EArb",
        "outputId": "0bdb5b4c-6230-4c62-a17a-dade2f179044"
      },
      "outputs": [
        {
          "output_type": "stream",
          "name": "stdout",
          "text": [
            "Лемматизация: ['мама', 'мыть', 'рама', ',', 'а', 'потом', 'пойти', 'гулять', '.']\n",
            "Стемминг: ['мама', 'мыть', 'рама', ',', 'а', 'потом', 'пойти', 'гулять', '.']\n",
            "Токенизация ASCII: ['H', 'e', 'l', 'l', 'o', ',', ' ', 'W', 'o', 'r', 'l', 'd', '!']\n",
            "Векторизация ASCII: [72, 101, 108, 108, 111, 44, 32, 87, 111, 114, 108, 100, 33]\n",
            "Токенизация после обработки: ['м', 'а', 'м', 'а', ' ', 'м', 'ы', 'т', 'ь', ' ', 'р', 'а', 'м', 'а', ' ', ',', ' ', 'а', ' ', 'п', 'о', 'т', 'о', 'м', ' ', 'п', 'о', 'й', 'т', 'и', ' ', 'г', 'у', 'л', 'я', 'т', 'ь', ' ', '.']\n",
            "Векторизация после обработки: [1084, 1072, 1084, 1072, 32, 1084, 1099, 1090, 1100, 32, 1088, 1072, 1084, 1072, 32, 44, 32, 1072, 32, 1087, 1086, 1090, 1086, 1084, 32, 1087, 1086, 1081, 1090, 1080, 32, 1075, 1091, 1083, 1103, 1090, 1100, 32, 46]\n"
          ]
        }
      ],
      "source": [
        "# Импорт библиотек\n",
        "from natasha import MorphVocab, Doc, Segmenter, NewsEmbedding, NewsMorphTagger\n",
        "\n",
        "# Инициализация сегментатора, морфологического теггера и морфологического словаря\n",
        "segmenter = Segmenter()\n",
        "morph_vocab = MorphVocab()\n",
        "\n",
        "# Загрузка модели для морфологического анализа\n",
        "emb = NewsEmbedding()\n",
        "morph_tagger = NewsMorphTagger(emb)\n",
        "\n",
        "# 1. Лемматизация и стемминг с использованием Natasha\n",
        "def lemmatize_and_stem(text):\n",
        "    doc = Doc(text)\n",
        "    doc.segment(segmenter)  # Сегментация текста на токены\n",
        "    doc.tag_morph(morph_tagger)  # Морфологический разбор\n",
        "\n",
        "    # Приведение токенов к леммам\n",
        "    for token in doc.tokens:\n",
        "        token.lemmatize(morph_vocab)\n",
        "\n",
        "    lemmatized_text = [token.lemma for token in doc.tokens]\n",
        "    stemmed_text = [token.lemma for token in doc.tokens]\n",
        "\n",
        "    return lemmatized_text, stemmed_text\n",
        "\n",
        "# Пример текста\n",
        "text = \"Мама мыла раму, а потом пошла гулять.\"\n",
        "\n",
        "# Лемматизация и стемминг\n",
        "lemmatized_text, stemmed_text = lemmatize_and_stem(text)\n",
        "print(\"Лемматизация:\", lemmatized_text)\n",
        "print(\"Стемминг:\", stemmed_text)\n",
        "\n",
        "# 2. Функция для токенизации всех символов из ASCII\n",
        "def tokenize_ascii(text):\n",
        "    return list(text)\n",
        "\n",
        "# Пример использования\n",
        "ascii_text = \"Hello, World!\"\n",
        "tokens = tokenize_ascii(ascii_text)\n",
        "print(\"Токенизация ASCII:\", tokens)\n",
        "\n",
        "# 3. Функция для векторизации всех символов из ASCII\n",
        "def vectorize_ascii(text):\n",
        "    return [ord(char) for char in text]\n",
        "\n",
        "# Пример использования\n",
        "ascii_text = \"Hello, World!\"\n",
        "vectors = vectorize_ascii(ascii_text)\n",
        "print(\"Векторизация ASCII:\", vectors)\n",
        "\n",
        "# 4. Токенизация и векторизация текста после лемматизации и стемминга\n",
        "processed_text = ' '.join(lemmatized_text)\n",
        "\n",
        "# Токенизация\n",
        "tokens = tokenize_ascii(processed_text)\n",
        "print(\"Токенизация после обработки:\", tokens)\n",
        "\n",
        "# Векторизация\n",
        "vectors = vectorize_ascii(processed_text)\n",
        "print(\"Векторизация после обработки:\", vectors)"
      ]
    }
  ]
}