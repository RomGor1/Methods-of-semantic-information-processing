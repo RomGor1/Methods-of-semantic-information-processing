{
  "nbformat": 4,
  "nbformat_minor": 0,
  "metadata": {
    "colab": {
      "provenance": [],
      "authorship_tag": "ABX9TyOZ4M444VXQhugy09In83+h",
      "include_colab_link": true
    },
    "kernelspec": {
      "name": "python3",
      "display_name": "Python 3"
    },
    "language_info": {
      "name": "python"
    }
  },
  "cells": [
    {
      "cell_type": "markdown",
      "metadata": {
        "id": "view-in-github",
        "colab_type": "text"
      },
      "source": [
        "<a href=\"https://colab.research.google.com/github/RomGor1/Methods-of-semantic-information-processing/blob/main/Untitled1.ipynb\" target=\"_parent\"><img src=\"https://colab.research.google.com/assets/colab-badge.svg\" alt=\"Open In Colab\"/></a>"
      ]
    },
    {
      "cell_type": "code",
      "execution_count": 44,
      "metadata": {
        "colab": {
          "base_uri": "https://localhost:8080/"
        },
        "id": "VASDEsF-EArb",
        "outputId": "e73d85e9-1504-449c-dd81-17c99fea6e11"
      },
      "outputs": [
        {
          "output_type": "stream",
          "name": "stdout",
          "text": [
            "Лемматизация: ['мама', 'мыть', 'рама', ',', 'а', 'потом', 'пойти', 'гулять', '.']\n",
            "Стемминг: ['Мама', 'мыла', 'раму', ',', 'а', 'потом', 'пошла', 'гулять', '.']\n",
            "Токенизация ASCII: ['H', 'e', 'l', 'l', 'o', ',', ' ', 'W', 'o', 'r', 'l', 'd', '!']\n",
            "Векторизация ASCII: [72, 101, 108, 108, 111, 44, 32, 87, 111, 114, 108, 100, 33]\n",
            "Токенизация после лемматизации: ['м', 'а', 'м', 'а', ' ', 'м', 'ы', 'т', 'ь', ' ', 'р', 'а', 'м', 'а', ' ', ',', ' ', 'а', ' ', 'п', 'о', 'т', 'о', 'м', ' ', 'п', 'о', 'й', 'т', 'и', ' ', 'г', 'у', 'л', 'я', 'т', 'ь', ' ', '.']\n",
            "Векторизация после лемматизации: [1084, 1072, 1084, 1072, 32, 1084, 1099, 1090, 1100, 32, 1088, 1072, 1084, 1072, 32, 44, 32, 1072, 32, 1087, 1086, 1090, 1086, 1084, 32, 1087, 1086, 1081, 1090, 1080, 32, 1075, 1091, 1083, 1103, 1090, 1100, 32, 46]\n",
            "Токенизация после стемминга: ['М', 'а', 'м', 'а', ' ', 'м', 'ы', 'л', 'а', ' ', 'р', 'а', 'м', 'у', ' ', ',', ' ', 'а', ' ', 'п', 'о', 'т', 'о', 'м', ' ', 'п', 'о', 'ш', 'л', 'а', ' ', 'г', 'у', 'л', 'я', 'т', 'ь', ' ', '.']\n",
            "Векторизация после стемминга: [1052, 1072, 1084, 1072, 32, 1084, 1099, 1083, 1072, 32, 1088, 1072, 1084, 1091, 32, 44, 32, 1072, 32, 1087, 1086, 1090, 1086, 1084, 32, 1087, 1086, 1096, 1083, 1072, 32, 1075, 1091, 1083, 1103, 1090, 1100, 32, 46]\n"
          ]
        }
      ],
      "source": [
        "# Импорт необходимых библиотек\n",
        "from natasha import MorphVocab, Doc, Segmenter, NewsEmbedding, NewsMorphTagger\n",
        "\n",
        "# Инициализация сегментатора, морфологического теггера и морфологического словаря\n",
        "segmenter = Segmenter()\n",
        "morph_vocab = MorphVocab()\n",
        "\n",
        "# Загрузка модели для морфологического анализа\n",
        "emb = NewsEmbedding()\n",
        "morph_tagger = NewsMorphTagger(emb)\n",
        "\n",
        "# 1. Лемматизация с использованием Natasha\n",
        "def lemmatize(text):\n",
        "    doc = Doc(text)\n",
        "    doc.segment(segmenter)  # Сегментация текста на токены\n",
        "    doc.tag_morph(morph_tagger)  # Морфологический разбор\n",
        "\n",
        "    # Приведение токенов к леммам\n",
        "    for token in doc.tokens:\n",
        "        token.lemmatize(morph_vocab)\n",
        "\n",
        "    lemmatized_text = [token.lemma for token in doc.tokens]\n",
        "    return lemmatized_text\n",
        "\n",
        "# 2. Упрощённый стемминг (возвращает основу слова)\n",
        "def stem(text):\n",
        "    doc = Doc(text)\n",
        "    doc.segment(segmenter)  # Сегментация текста на токены\n",
        "    doc.tag_morph(morph_tagger)  # Морфологический разбор\n",
        "\n",
        "    # Упрощённый стемминг: берём первые 4 символа леммы (можно настроить)\n",
        "    stemmed_text = []\n",
        "    for token in doc.tokens:\n",
        "        if token.lemma:  # Проверяем, что lemma не None\n",
        "            stemmed_text.append(token.lemma[:4])  # Берём первые 4 символа леммы\n",
        "        else:\n",
        "            stemmed_text.append(token.text)  # Если lemma None, используем исходный текст токена\n",
        "    return stemmed_text\n",
        "\n",
        "# Пример текста\n",
        "text = \"Мама мыла раму, а потом пошла гулять.\"\n",
        "\n",
        "# Лемматизация\n",
        "lemmatized_text = lemmatize(text)\n",
        "print(\"Лемматизация:\", lemmatized_text)\n",
        "\n",
        "# Стемминг\n",
        "stemmed_text = stem(text)\n",
        "print(\"Стемминг:\", stemmed_text)\n",
        "\n",
        "# 3. Функция для токенизации всех символов из ASCII\n",
        "def tokenize_ascii(text):\n",
        "    return list(text)\n",
        "\n",
        "# Пример использования\n",
        "ascii_text = \"Hello, World!\"\n",
        "tokens = tokenize_ascii(ascii_text)\n",
        "print(\"Токенизация ASCII:\", tokens)\n",
        "\n",
        "# 4. Функция для векторизации всех символов из ASCII\n",
        "def vectorize_ascii(text):\n",
        "    return [ord(char) for char in text]\n",
        "\n",
        "# Пример использования\n",
        "ascii_text = \"Hello, World!\"\n",
        "vectors = vectorize_ascii(ascii_text)\n",
        "print(\"Векторизация ASCII:\", vectors)\n",
        "\n",
        "# 5. Токенизация и векторизация текста после лемматизации и стемминга\n",
        "processed_text_lemmatized = ' '.join(lemmatized_text)\n",
        "processed_text_stemmed = ' '.join(stemmed_text)\n",
        "\n",
        "# Токенизация после лемматизации\n",
        "tokens_lemmatized = tokenize_ascii(processed_text_lemmatized)\n",
        "print(\"Токенизация после лемматизации:\", tokens_lemmatized)\n",
        "\n",
        "# Векторизация после лемматизации\n",
        "vectors_lemmatized = vectorize_ascii(processed_text_lemmatized)\n",
        "print(\"Векторизация после лемматизации:\", vectors_lemmatized)\n",
        "\n",
        "# Токенизация после стемминга\n",
        "tokens_stemmed = tokenize_ascii(processed_text_stemmed)\n",
        "print(\"Токенизация после стемминга:\", tokens_stemmed)\n",
        "\n",
        "# Векторизация после стемминга\n",
        "vectors_stemmed = vectorize_ascii(processed_text_stemmed)\n",
        "print(\"Векторизация после стемминга:\", vectors_stemmed)"
      ]
    }
  ]
}