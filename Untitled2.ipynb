{
  "nbformat": 4,
  "nbformat_minor": 0,
  "metadata": {
    "colab": {
      "provenance": [],
      "authorship_tag": "ABX9TyM/7MOagQli6ZD3GmI9SpgO",
      "include_colab_link": true
    },
    "kernelspec": {
      "name": "python3",
      "display_name": "Python 3"
    },
    "language_info": {
      "name": "python"
    }
  },
  "cells": [
    {
      "cell_type": "markdown",
      "metadata": {
        "id": "view-in-github",
        "colab_type": "text"
      },
      "source": [
        "<a href=\"https://colab.research.google.com/github/RomGor1/Methods-of-semantic-information-processing/blob/main/Untitled2.ipynb\" target=\"_parent\"><img src=\"https://colab.research.google.com/assets/colab-badge.svg\" alt=\"Open In Colab\"/></a>"
      ]
    },
    {
      "cell_type": "code",
      "source": [
        "import math\n",
        "from collections import Counter"
      ],
      "metadata": {
        "id": "Mwv_pi59jMd6"
      },
      "execution_count": 78,
      "outputs": []
    },
    {
      "cell_type": "code",
      "source": [
        "class MyCountVectorizer:\n",
        "    def __init__(self):\n",
        "        self.vocabulary_ = None\n",
        "\n",
        "    def fit(self, texts):\n",
        "\n",
        "        unique_words = set()\n",
        "        for text in texts:\n",
        "            unique_words.update(text.split())\n",
        "        self.vocabulary_ = {word: idx for idx, word in enumerate(sorted(unique_words))}\n",
        "\n",
        "    def transform(self, texts):\n",
        "\n",
        "        if self.vocabulary_ is None:\n",
        "            raise ValueError(\"метод fit.\")\n",
        "\n",
        "        num_texts = len(texts)\n",
        "        num_words = len(self.vocabulary_)\n",
        "        matrix = [[0] * num_words for _ in range(num_texts)]\n",
        "\n",
        "        for i, text in enumerate(texts):\n",
        "            word_counts = Counter(text.split())\n",
        "            for word, count in word_counts.items():\n",
        "                if word in self.vocabulary_:\n",
        "                    matrix[i][self.vocabulary_[word]] = count\n",
        "\n",
        "        return matrix\n",
        "\n",
        "    def fit_transform(self, texts):\n",
        "        self.fit(texts)\n",
        "        return self.transform(texts)\n"
      ],
      "metadata": {
        "id": "yBLE037xjP6i"
      },
      "execution_count": 79,
      "outputs": []
    },
    {
      "cell_type": "code",
      "source": [
        "class MyTfidfVectorizer:\n",
        "    def __init__(self):\n",
        "        self.count_vectorizer = MyCountVectorizer()\n",
        "        self.idf = None\n",
        "\n",
        "    def fit(self, texts):\n",
        "\n",
        "        self.count_vectorizer.fit(texts)\n",
        "        matrix = self.count_vectorizer.transform(texts)\n",
        "\n",
        "\n",
        "        num_texts = len(texts)\n",
        "        num_words = len(self.count_vectorizer.vocabulary_)\n",
        "        self.idf = [0] * num_words\n",
        "\n",
        "        for i in range(num_words):\n",
        "\n",
        "            doc_count = sum(1 for text in matrix if text[i] > 0)\n",
        "            self.idf[i] = math.log((num_texts + 1) / (doc_count + 1)) + 1\n",
        "\n",
        "    def transform(self, texts):\n",
        "        if self.idf is None:\n",
        "            raise ValueError(\"метод fit.\")\n",
        "\n",
        "\n",
        "        matrix = self.count_vectorizer.transform(texts)\n",
        "\n",
        "\n",
        "        tfidf_matrix = []\n",
        "        for text in matrix:\n",
        "            tfidf_text = [tf * idf for tf, idf in zip(text, self.idf)]\n",
        "            tfidf_matrix.append(tfidf_text)\n",
        "\n",
        "        return tfidf_matrix\n",
        "\n",
        "    def fit_transform(self, texts):\n",
        "        self.fit(texts)\n",
        "        return self.transform(texts)"
      ],
      "metadata": {
        "id": "bwFVAu2nkHyZ"
      },
      "execution_count": 80,
      "outputs": []
    },
    {
      "cell_type": "code",
      "source": [
        "\n",
        "texts = [\n",
        "    \"Пример первого текста для обработки.\",\n",
        "    \"Второй текст для анализа.\",\n",
        "    \"Еще один пример текста.\"\n",
        "]\n",
        "\n",
        "\n",
        "texts = [text.lower().split() for text in texts]\n",
        "texts = [\" \".join(text) for text in texts]\n",
        "\n",
        "print(\"Тексты после токенизации:\")\n",
        "for text in texts:\n",
        "    print(text)"
      ],
      "metadata": {
        "colab": {
          "base_uri": "https://localhost:8080/"
        },
        "id": "UFXaBrbSkLFZ",
        "outputId": "a17f1d38-bf1d-42e3-9a8f-0aa2fc266662"
      },
      "execution_count": 81,
      "outputs": [
        {
          "output_type": "stream",
          "name": "stdout",
          "text": [
            "Тексты после токенизации:\n",
            "пример первого текста для обработки.\n",
            "второй текст для анализа.\n",
            "еще один пример текста.\n"
          ]
        }
      ]
    },
    {
      "cell_type": "code",
      "source": [
        "\n",
        "count_vectorizer = MyCountVectorizer()\n",
        "\n",
        "\n",
        "count_matrix = count_vectorizer.fit_transform(texts)\n",
        "\n",
        "\n",
        "print(\"\\nCountVectorizer Matrix:\")\n",
        "for row in count_matrix:\n",
        "    print(row)\n",
        "\n",
        "print(\"\\nСловарь (термины):\", count_vectorizer.vocabulary_)"
      ],
      "metadata": {
        "colab": {
          "base_uri": "https://localhost:8080/"
        },
        "id": "l1Scb4dDkWNh",
        "outputId": "12247142-c6f2-41e9-83d1-95cb993de504"
      },
      "execution_count": 82,
      "outputs": [
        {
          "output_type": "stream",
          "name": "stdout",
          "text": [
            "\n",
            "CountVectorizer Matrix:\n",
            "[0, 0, 1, 0, 1, 0, 1, 1, 0, 1, 0]\n",
            "[1, 1, 1, 0, 0, 0, 0, 0, 1, 0, 0]\n",
            "[0, 0, 0, 1, 0, 1, 0, 1, 0, 0, 1]\n",
            "\n",
            "Словарь (термины): {'анализа.': 0, 'второй': 1, 'для': 2, 'еще': 3, 'обработки.': 4, 'один': 5, 'первого': 6, 'пример': 7, 'текст': 8, 'текста': 9, 'текста.': 10}\n"
          ]
        }
      ]
    },
    {
      "cell_type": "code",
      "source": [
        "tfidf_vectorizer = MyTfidfVectorizer()\n",
        "\n",
        "\n",
        "tfidf_matrix = tfidf_vectorizer.fit_transform(texts)\n",
        "\n",
        "\n",
        "print(\"\\nTF-IDF Matrix:\")\n",
        "for row in tfidf_matrix:\n",
        "    print(row)"
      ],
      "metadata": {
        "colab": {
          "base_uri": "https://localhost:8080/"
        },
        "id": "6s0QjNEfkYa5",
        "outputId": "fd60faaa-df5b-4623-c361-c5a499c185b0"
      },
      "execution_count": 83,
      "outputs": [
        {
          "output_type": "stream",
          "name": "stdout",
          "text": [
            "\n",
            "TF-IDF Matrix:\n",
            "[0.0, 0.0, 1.2876820724517808, 0.0, 1.6931471805599454, 0.0, 1.6931471805599454, 1.2876820724517808, 0.0, 1.6931471805599454, 0.0]\n",
            "[1.6931471805599454, 1.6931471805599454, 1.2876820724517808, 0.0, 0.0, 0.0, 0.0, 0.0, 1.6931471805599454, 0.0, 0.0]\n",
            "[0.0, 0.0, 0.0, 1.6931471805599454, 0.0, 1.6931471805599454, 0.0, 1.2876820724517808, 0.0, 0.0, 1.6931471805599454]\n"
          ]
        }
      ]
    }
  ]
}